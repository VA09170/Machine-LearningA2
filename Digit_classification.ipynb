{
 "cells": [
  {
   "cell_type": "code",
   "execution_count": 8,
   "metadata": {},
   "outputs": [],
   "source": [
    "import numpy as np\n",
    "import matplotlib.pyplot as plt\n",
    "from scipy.special import expit"
   ]
  },
  {
   "cell_type": "markdown",
   "metadata": {},
   "source": [
    "# download the data from minst\n",
    "the following cell will download the data auto.."
   ]
  },
  {
   "cell_type": "code",
   "execution_count": 1,
   "metadata": {},
   "outputs": [
    {
     "name": "stdout",
     "output_type": "stream",
     "text": [
      "--2020-10-12 04:46:20--  http://yann.lecun.com/exdb/mnist/train-images-idx3-ubyte.gz\n",
      "Resolving yann.lecun.com (yann.lecun.com)... 172.67.171.76, 104.28.6.204, 104.28.7.204, ...\n",
      "Connecting to yann.lecun.com (yann.lecun.com)|172.67.171.76|:80... connected.\n",
      "HTTP request sent, awaiting response... 200 OK\n",
      "Length: 9912422 (9.5M) [application/x-gzip]\n",
      "Saving to: ‘train-images-idx3-ubyte.gz’\n",
      "\n",
      "train-images-idx3-u 100%[===================>]   9.45M  1.08MB/s    in 10s     \n",
      "\n",
      "2020-10-12 04:46:31 (933 KB/s) - ‘train-images-idx3-ubyte.gz’ saved [9912422/9912422]\n",
      "\n",
      "--2020-10-12 04:46:31--  http://yann.lecun.com/exdb/mnist/train-labels-idx1-ubyte.gz\n",
      "Resolving yann.lecun.com (yann.lecun.com)... 172.67.171.76, 104.28.6.204, 104.28.7.204, ...\n",
      "Connecting to yann.lecun.com (yann.lecun.com)|172.67.171.76|:80... connected.\n",
      "HTTP request sent, awaiting response... 200 OK\n",
      "Length: 28881 (28K) [application/x-gzip]\n",
      "Saving to: ‘train-labels-idx1-ubyte.gz’\n",
      "\n",
      "train-labels-idx1-u 100%[===================>]  28.20K   131KB/s    in 0.2s    \n",
      "\n",
      "2020-10-12 04:46:32 (131 KB/s) - ‘train-labels-idx1-ubyte.gz’ saved [28881/28881]\n",
      "\n",
      "--2020-10-12 04:46:32--  http://yann.lecun.com/exdb/mnist/t10k-images-idx3-ubyte.gz\n",
      "Resolving yann.lecun.com (yann.lecun.com)... 172.67.171.76, 104.28.6.204, 104.28.7.204, ...\n",
      "Connecting to yann.lecun.com (yann.lecun.com)|172.67.171.76|:80... connected.\n",
      "HTTP request sent, awaiting response... 200 OK\n",
      "Length: 1648877 (1.6M) [application/x-gzip]\n",
      "Saving to: ‘t10k-images-idx3-ubyte.gz’\n",
      "\n",
      "t10k-images-idx3-ub 100%[===================>]   1.57M  1.08MB/s    in 1.5s    \n",
      "\n",
      "2020-10-12 04:46:34 (1.08 MB/s) - ‘t10k-images-idx3-ubyte.gz’ saved [1648877/1648877]\n",
      "\n",
      "--2020-10-12 04:46:34--  http://yann.lecun.com/exdb/mnist/t10k-labels-idx1-ubyte.gz\n",
      "Resolving yann.lecun.com (yann.lecun.com)... 172.67.171.76, 104.28.6.204, 104.28.7.204, ...\n",
      "Connecting to yann.lecun.com (yann.lecun.com)|172.67.171.76|:80... connected.\n",
      "HTTP request sent, awaiting response... 200 OK\n",
      "Length: 4542 (4.4K) [application/x-gzip]\n",
      "Saving to: ‘t10k-labels-idx1-ubyte.gz’\n",
      "\n",
      "t10k-labels-idx1-ub 100%[===================>]   4.44K  --.-KB/s    in 0.001s  \n",
      "\n",
      "2020-10-12 04:46:35 (3.64 MB/s) - ‘t10k-labels-idx1-ubyte.gz’ saved [4542/4542]\n",
      "\n"
     ]
    }
   ],
   "source": [
    "!wget http://yann.lecun.com/exdb/mnist/train-images-idx3-ubyte.gz\n",
    "!wget http://yann.lecun.com/exdb/mnist/train-labels-idx1-ubyte.gz\n",
    "# teh following links are of the test data set\n",
    "!wget http://yann.lecun.com/exdb/mnist/t10k-images-idx3-ubyte.gz\n",
    "!wget http://yann.lecun.com/exdb/mnist/t10k-labels-idx1-ubyte.gz\n"
   ]
  },
  {
   "cell_type": "raw",
   "metadata": {},
   "source": [
    "check and load the data."
   ]
  },
  {
   "cell_type": "code",
   "execution_count": 2,
   "metadata": {},
   "outputs": [
    {
     "name": "stdout",
     "output_type": "stream",
     "text": [
      "total 22688\r\n",
      "-rw-r--r--  1 vaibhavpatel  staff     1044 Oct 12 04:45 Digit_classification.ipynb\r\n",
      "-rw-r--r--  1 vaibhavpatel  staff       35 Oct 12 04:16 README.md\r\n",
      "-rw-r--r--  1 vaibhavpatel  staff  1648877 Jul 22  2000 t10k-images-idx3-ubyte.gz\r\n",
      "-rw-r--r--  1 vaibhavpatel  staff     4542 Jul 22  2000 t10k-labels-idx1-ubyte.gz\r\n",
      "-rw-r--r--  1 vaibhavpatel  staff  9912422 Jul 22  2000 train-images-idx3-ubyte.gz\r\n",
      "-rw-r--r--  1 vaibhavpatel  staff    28881 Jul 22  2000 train-labels-idx1-ubyte.gz\r\n"
     ]
    }
   ],
   "source": [
    "ls -l"
   ]
  },
  {
   "cell_type": "code",
   "execution_count": 3,
   "metadata": {},
   "outputs": [],
   "source": [
    "def load_mnist(path, kind='train'):\n",
    "    import os\n",
    "    import gzip\n",
    "    import numpy as np\n",
    "    \n",
    "    \"\"\"Load MNIST data from `path`\"\"\"\n",
    "    labels_path = os.path.join(path,\n",
    "                               '%s-labels-idx1-ubyte.gz'\n",
    "                               % kind)\n",
    "    images_path = os.path.join(path,\n",
    "                               '%s-images-idx3-ubyte.gz'\n",
    "                               % kind)\n",
    "\n",
    "    with gzip.open(labels_path, 'rb') as lbpath:\n",
    "        labels = np.frombuffer(lbpath.read(), dtype=np.uint8,\n",
    "                               offset=8)\n",
    "\n",
    "    with gzip.open(images_path, 'rb') as imgpath:\n",
    "        images = np.frombuffer(imgpath.read(), dtype=np.uint8,\n",
    "                               offset=16).reshape(len(labels), 784)\n",
    "\n",
    "    return images, labels"
   ]
  },
  {
   "cell_type": "code",
   "execution_count": 7,
   "metadata": {},
   "outputs": [
    {
     "name": "stdout",
     "output_type": "stream",
     "text": [
      "X-Train set size (60000, 784)\n",
      "y-Test set size (10000, 784)\n",
      "X - Label set Size (60000,)\n",
      "y - Label set size (10000,)\n"
     ]
    }
   ],
   "source": [
    "X_train, y_train = load_mnist(\"./\",kind=\"train\")\n",
    "X_test, y_test = load_mnist(\"./\",kind=\"t10k\")\n",
    "print(\"X-Train set size\",np.shape(X_train))\n",
    "print(\"y-Test set size\", np.shape(X_test))\n",
    "\n",
    "print(\"X - Label set Size\", np.shape(y_train))\n",
    "print(\"y - Label set size\", np.shape(y_test))"
   ]
  },
  {
   "cell_type": "code",
   "execution_count": null,
   "metadata": {},
   "outputs": [],
   "source": []
  }
 ],
 "metadata": {
  "kernelspec": {
   "display_name": "Python 3",
   "language": "python",
   "name": "python3"
  },
  "language_info": {
   "codemirror_mode": {
    "name": "ipython",
    "version": 3
   },
   "file_extension": ".py",
   "mimetype": "text/x-python",
   "name": "python",
   "nbconvert_exporter": "python",
   "pygments_lexer": "ipython3",
   "version": "3.7.4"
  }
 },
 "nbformat": 4,
 "nbformat_minor": 2
}
