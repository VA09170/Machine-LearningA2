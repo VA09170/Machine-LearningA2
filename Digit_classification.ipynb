{
 "cells": [
  {
   "cell_type": "code",
   "execution_count": 2,
   "metadata": {},
   "outputs": [],
   "source": [
    "import numpy as np\n",
    "import matplotlib.pyplot as plt\n",
    "from scipy.special import expit"
   ]
  },
  {
   "cell_type": "markdown",
   "metadata": {},
   "source": [
    "# download the data from minst\n",
    "the following cell will download the data auto.."
   ]
  },
  {
   "cell_type": "code",
   "execution_count": 1,
   "metadata": {},
   "outputs": [
    {
     "name": "stdout",
     "output_type": "stream",
     "text": [
      "--2020-10-12 04:46:20--  http://yann.lecun.com/exdb/mnist/train-images-idx3-ubyte.gz\n",
      "Resolving yann.lecun.com (yann.lecun.com)... 172.67.171.76, 104.28.6.204, 104.28.7.204, ...\n",
      "Connecting to yann.lecun.com (yann.lecun.com)|172.67.171.76|:80... connected.\n",
      "HTTP request sent, awaiting response... 200 OK\n",
      "Length: 9912422 (9.5M) [application/x-gzip]\n",
      "Saving to: ‘train-images-idx3-ubyte.gz’\n",
      "\n",
      "train-images-idx3-u 100%[===================>]   9.45M  1.08MB/s    in 10s     \n",
      "\n",
      "2020-10-12 04:46:31 (933 KB/s) - ‘train-images-idx3-ubyte.gz’ saved [9912422/9912422]\n",
      "\n",
      "--2020-10-12 04:46:31--  http://yann.lecun.com/exdb/mnist/train-labels-idx1-ubyte.gz\n",
      "Resolving yann.lecun.com (yann.lecun.com)... 172.67.171.76, 104.28.6.204, 104.28.7.204, ...\n",
      "Connecting to yann.lecun.com (yann.lecun.com)|172.67.171.76|:80... connected.\n",
      "HTTP request sent, awaiting response... 200 OK\n",
      "Length: 28881 (28K) [application/x-gzip]\n",
      "Saving to: ‘train-labels-idx1-ubyte.gz’\n",
      "\n",
      "train-labels-idx1-u 100%[===================>]  28.20K   131KB/s    in 0.2s    \n",
      "\n",
      "2020-10-12 04:46:32 (131 KB/s) - ‘train-labels-idx1-ubyte.gz’ saved [28881/28881]\n",
      "\n",
      "--2020-10-12 04:46:32--  http://yann.lecun.com/exdb/mnist/t10k-images-idx3-ubyte.gz\n",
      "Resolving yann.lecun.com (yann.lecun.com)... 172.67.171.76, 104.28.6.204, 104.28.7.204, ...\n",
      "Connecting to yann.lecun.com (yann.lecun.com)|172.67.171.76|:80... connected.\n",
      "HTTP request sent, awaiting response... 200 OK\n",
      "Length: 1648877 (1.6M) [application/x-gzip]\n",
      "Saving to: ‘t10k-images-idx3-ubyte.gz’\n",
      "\n",
      "t10k-images-idx3-ub 100%[===================>]   1.57M  1.08MB/s    in 1.5s    \n",
      "\n",
      "2020-10-12 04:46:34 (1.08 MB/s) - ‘t10k-images-idx3-ubyte.gz’ saved [1648877/1648877]\n",
      "\n",
      "--2020-10-12 04:46:34--  http://yann.lecun.com/exdb/mnist/t10k-labels-idx1-ubyte.gz\n",
      "Resolving yann.lecun.com (yann.lecun.com)... 172.67.171.76, 104.28.6.204, 104.28.7.204, ...\n",
      "Connecting to yann.lecun.com (yann.lecun.com)|172.67.171.76|:80... connected.\n",
      "HTTP request sent, awaiting response... 200 OK\n",
      "Length: 4542 (4.4K) [application/x-gzip]\n",
      "Saving to: ‘t10k-labels-idx1-ubyte.gz’\n",
      "\n",
      "t10k-labels-idx1-ub 100%[===================>]   4.44K  --.-KB/s    in 0.001s  \n",
      "\n",
      "2020-10-12 04:46:35 (3.64 MB/s) - ‘t10k-labels-idx1-ubyte.gz’ saved [4542/4542]\n",
      "\n"
     ]
    }
   ],
   "source": [
    "!wget http://yann.lecun.com/exdb/mnist/train-images-idx3-ubyte.gz\n",
    "!wget http://yann.lecun.com/exdb/mnist/train-labels-idx1-ubyte.gz\n",
    "# teh following links are of the test data set\n",
    "!wget http://yann.lecun.com/exdb/mnist/t10k-images-idx3-ubyte.gz\n",
    "!wget http://yann.lecun.com/exdb/mnist/t10k-labels-idx1-ubyte.gz\n"
   ]
  },
  {
   "cell_type": "raw",
   "metadata": {},
   "source": [
    "check and load the data."
   ]
  },
  {
   "cell_type": "code",
   "execution_count": 2,
   "metadata": {},
   "outputs": [
    {
     "name": "stdout",
     "output_type": "stream",
     "text": [
      "total 22688\r\n",
      "-rw-r--r--  1 vaibhavpatel  staff     1044 Oct 12 04:45 Digit_classification.ipynb\r\n",
      "-rw-r--r--  1 vaibhavpatel  staff       35 Oct 12 04:16 README.md\r\n",
      "-rw-r--r--  1 vaibhavpatel  staff  1648877 Jul 22  2000 t10k-images-idx3-ubyte.gz\r\n",
      "-rw-r--r--  1 vaibhavpatel  staff     4542 Jul 22  2000 t10k-labels-idx1-ubyte.gz\r\n",
      "-rw-r--r--  1 vaibhavpatel  staff  9912422 Jul 22  2000 train-images-idx3-ubyte.gz\r\n",
      "-rw-r--r--  1 vaibhavpatel  staff    28881 Jul 22  2000 train-labels-idx1-ubyte.gz\r\n"
     ]
    }
   ],
   "source": [
    "ls -l"
   ]
  },
  {
   "cell_type": "code",
   "execution_count": 3,
   "metadata": {},
   "outputs": [],
   "source": [
    "def load_mnist(path, kind='train'):\n",
    "    import os\n",
    "    import gzip\n",
    "    import numpy as np\n",
    "    \n",
    "    \"\"\"Load MNIST data from `path`\"\"\"\n",
    "    labels_path = os.path.join(path,\n",
    "                               '%s-labels-idx1-ubyte.gz'\n",
    "                               % kind)\n",
    "    images_path = os.path.join(path,\n",
    "                               '%s-images-idx3-ubyte.gz'\n",
    "                               % kind)\n",
    "\n",
    "    with gzip.open(labels_path, 'rb') as lbpath:\n",
    "        labels = np.frombuffer(lbpath.read(), dtype=np.uint8,\n",
    "                               offset=8)\n",
    "\n",
    "    with gzip.open(images_path, 'rb') as imgpath:\n",
    "        images = np.frombuffer(imgpath.read(), dtype=np.uint8,\n",
    "                               offset=16).reshape(len(labels), 784)\n",
    "\n",
    "    return images, labels"
   ]
  },
  {
   "cell_type": "code",
   "execution_count": 4,
   "metadata": {},
   "outputs": [
    {
     "name": "stdout",
     "output_type": "stream",
     "text": [
      "X-Train set size (60000, 784)\n",
      "y-Test set size (10000, 784)\n",
      "X - Label set Size (60000,)\n",
      "y - Label set size (10000,)\n"
     ]
    }
   ],
   "source": [
    "X_train, y_train = load_mnist(\"./\",kind=\"train\")\n",
    "X_test, y_test = load_mnist(\"./\",kind=\"t10k\")\n",
    "print(\"X-Train set size\",np.shape(X_train))\n",
    "print(\"y-Test set size\", np.shape(X_test))\n",
    "\n",
    "print(\"X - Label set Size\", np.shape(y_train))\n",
    "print(\"y - Label set size\", np.shape(y_test))"
   ]
  },
  {
   "cell_type": "code",
   "execution_count": 14,
   "metadata": {},
   "outputs": [],
   "source": [
    "def visualize_data(img_array, label_array, no_to_view):\n",
    "    fig, ax = plt.subplots(nrows=8, ncols=8, sharex=True, sharey=True)\n",
    "    ax = ax.flatten()\n",
    "    for i in range(64):\n",
    "        img = img_array[label_array==no_to_view][i].reshape(28,28)\n",
    "        ax[i].imshow(img, cmap='Greys', interpolation='nearest')\n",
    "    plt.show()\n",
    "def encode_data(y, num_labels=10):\n",
    "    one_hot = np.zeros((num_labels, y.shape[0]))\n",
    "    for i, val in enumerate(y):\n",
    "        one_hot[val,i] = 1.0\n",
    "    return one_hot"
   ]
  },
  {
   "cell_type": "code",
   "execution_count": 15,
   "metadata": {},
   "outputs": [
    {
     "data": {
      "image/png": "[encoded data removed]",
      "text/plain": [
       "<Figure size 432x288 with 64 Axes>"
      ]
     },
     "metadata": {
      "needs_background": "light"
     },
     "output_type": "display_data"
    }
   ],
   "source": [
    "visualize_data(X_train, y_train, 3)"
   ]
  },
  {
   "cell_type": "code",
   "execution_count": 16,
   "metadata": {},
   "outputs": [
    {
     "name": "stdout",
     "output_type": "stream",
     "text": [
      "[4 5 6 7 9 0]\n",
      "[[0. 0. 0. 0. 0. 1.]\n",
      " [0. 0. 0. 0. 0. 0.]\n",
      " [0. 0. 0. 0. 0. 0.]\n",
      " [0. 0. 0. 0. 0. 0.]\n",
      " [1. 0. 0. 0. 0. 0.]\n",
      " [0. 1. 0. 0. 0. 0.]\n",
      " [0. 0. 1. 0. 0. 0.]\n",
      " [0. 0. 0. 1. 0. 0.]\n",
      " [0. 0. 0. 0. 0. 0.]\n",
      " [0. 0. 0. 0. 1. 0.]]\n"
     ]
    }
   ],
   "source": [
    "y = np.array([4,5,6,7,9,0])\n",
    "print(y)\n",
    "z = encode_data(y)\n",
    "print(z)"
   ]
  },
  {
   "cell_type": "code",
   "execution_count": 17,
   "metadata": {},
   "outputs": [],
   "source": [
    "def sigmoid(x):\n",
    "    return 1 / (1 + np.exp(-x))\n",
    "\n",
    "def visualize_sigmoid():\n",
    "    x = np.arange(-10, 10, 0.1)\n",
    "    y = sigmoid(x)\n",
    "    fig, ax = plt.subplots()\n",
    "    ax.plot(x,y)\n",
    "    plt.show()\n",
    "    \n",
    "def sigmoid_gradient(z):\n",
    "    s = sigmoid(z)\n",
    "    return s * (1 - s)\n",
    "\n",
    "def calc_cost(y_enc, outpt):\n",
    "    t1 = -y_enc * np.log(outpt)\n",
    "    t2 = (1 - y_enc)*np.log(1-outpt)\n",
    "    cost = np.sum(t1 - t2)\n",
    "    return cost\n",
    "\n"
   ]
  },
  {
   "cell_type": "code",
   "execution_count": 18,
   "metadata": {},
   "outputs": [
    {
     "data": {
      "image/png": "[encoded data removed]",
      "text/plain": [
       "<Figure size 432x288 with 1 Axes>"
      ]
     },
     "metadata": {
      "needs_background": "light"
     },
     "output_type": "display_data"
    }
   ],
   "source": [
    "visualize_sigmoid()"
   ]
  },
  {
   "cell_type": "code",
   "execution_count": 19,
   "metadata": {},
   "outputs": [],
   "source": [
    "def add_bias_unit(X, where):\n",
    "    # where is just row or column\n",
    "    if where == 'column':\n",
    "        X_new = np.ones((X.shape[0], X.shape[1] + 1))\n",
    "        X_new[:, 1:] = X\n",
    "    elif where == 'row':\n",
    "        X_new = np.ones((X.shape[0] + 1, X.shape[1]))\n",
    "        X_new[1:, :] = X\n",
    "    return X_new"
   ]
  },
  {
   "cell_type": "code",
   "execution_count": 20,
   "metadata": {},
   "outputs": [],
   "source": [
    "def init_weights(n_features, n_hidden, n_output):\n",
    "    w1 = np.random.uniform(-1.0, 1.0, size=n_hidden*(n_features+1))\n",
    "    w1 = w1.reshape(n_hidden, n_features+1)\n",
    "    w2 = np.random.uniform(-1.0, 1.0, size=n_hidden*(n_hidden+1))\n",
    "    w2 = w2.reshape(n_hidden, n_hidden+1)\n",
    "    w3 = np.random.uniform(-1.0, 1.0, size=n_output*(n_hidden+1))\n",
    "    w3 = w3.reshape(n_output, n_hidden+1)\n",
    "    return w1, w2, w3\n",
    "\n",
    "def feed_forward(x, w1, w2, w3):\n",
    "    # add bias unit to the input\n",
    "    # column within the row is just a byte of data\n",
    "    # so we need to add a column vector of ones\n",
    "    a1 = add_bias_unit(x, where='column')\n",
    "    z2 = w1.dot(a1.T)\n",
    "    a2 = sigmoid(z2)\n",
    "    # since we transposed we have to add bias units as a row\n",
    "    a2 = add_bias_unit(a2, where='row')\n",
    "    z3 = w2.dot(a2)\n",
    "    a3 = sigmoid(z3)\n",
    "    a3 = add_bias_unit(a3, where='row')\n",
    "    z4 = w3.dot(a3)\n",
    "    a4 = sigmoid(z4)\n",
    "    return a1, z2, a2, z3, a3, z4, a4\n",
    "\n",
    "def predict(x, w1, w2, w3):\n",
    "    a1, z2, a2, z3, a3, z4, a4 = feed_forward(x, w1, w2, w3)\n",
    "    y_pred = np.argmax(a4, axis=0)\n",
    "    return y_pred\n",
    "\n",
    "def calc_grad(a1, a2, a3, a4, z2, z3, z4, y_enc, w1, w2, w3):\n",
    "    delta4 = a4 - y_enc\n",
    "    z3 = add_bias_unit(z3, where='row')\n",
    "    delta3 = w3.T.dot(delta4)*sigmoid_gradient(z3)\n",
    "    delta3 = delta3[1:, :]\n",
    "    z2 = add_bias_unit(z2, where='row')\n",
    "    delta2 = w2.T.dot(delta3)*sigmoid_gradient(z2)\n",
    "    delta2 = delta2[1:,:]\n",
    "\n",
    "    grad1 = delta2.dot(a1)\n",
    "    grad2 = delta3.dot(a2.T)\n",
    "    grad3 = delta4.dot(a3.T)\n",
    "\n",
    "    return grad1, grad2, grad3\n"
   ]
  },
  {
   "cell_type": "code",
   "execution_count": 21,
   "metadata": {},
   "outputs": [],
   "source": [
    "def runModel(X, y, X_t, y_t):\n",
    "    X_copy, y_copy = X.copy(), y.copy()\n",
    "    y_enc = encode_data(y)\n",
    "    epochs = 50\n",
    "    batch = 50\n",
    "\n",
    "    w1, w2, w3 = init_weights(784, 75, 10)\n",
    "\n",
    "    alpha = 0.001\n",
    "    eta = 0.001\n",
    "    dec = 0.00001\n",
    "    delta_w1_prev = np.zeros(w1.shape)\n",
    "    delta_w2_prev = np.zeros(w2.shape)\n",
    "    delta_w3_prev = np.zeros(w3.shape)\n",
    "    total_cost = []\n",
    "    pred_acc = np.zeros(epochs)\n",
    "\n",
    "    for i in range(epochs):\n",
    "\n",
    "        shuffle = np.random.permutation(y_copy.shape[0])\n",
    "        X_copy, y_enc = X_copy[shuffle], y_enc[:, shuffle]\n",
    "        eta /= (1 + dec*i)\n",
    "\n",
    "        mini = np.array_split(range(y_copy.shape[0]), batch)\n",
    "\n",
    "        for step in mini:\n",
    "            # feed forward the model\n",
    "            a1, z2, a2, z3, a3, z4, a4 = feed_forward(X_copy[step], w1, w2, w3)\n",
    "            cost = calc_cost(y_enc[:,step], a4)\n",
    "\n",
    "            total_cost.append(cost)\n",
    "            # back propagate\n",
    "            grad1, grad2, grad3 = calc_grad(a1, a2, a3, a4, z2, z3, z4, y_enc[:,step],\n",
    "                                            w1, w2, w3)\n",
    "            delta_w1, delta_w2, delta_w3 = eta * grad1, eta * grad2, eta * grad3\n",
    "\n",
    "            w1 -= delta_w1 + alpha * delta_w1_prev\n",
    "            w2 -= delta_w2 + alpha * delta_w2_prev\n",
    "            w3 -= delta_w3 + alpha * delta_w3_prev\n",
    "\n",
    "            delta_w1_prev, delta_w2_prev, delta_w3_prev = delta_w1, delta_w2, delta_w3_prev\n",
    "\n",
    "        y_pred = predict(X_t, w1, w2, w3)\n",
    "        pred_acc[i] = 100*np.sum(y_t == y_pred, axis=0) / X_t.shape[0]\n",
    "        print('epoch #', i)\n",
    "    return total_cost, pred_acc, y_pred"
   ]
  },
  {
   "cell_type": "code",
   "execution_count": 22,
   "metadata": {},
   "outputs": [
    {
     "name": "stderr",
     "output_type": "stream",
     "text": [
      "/Users/vaibhavpatel/opt/anaconda3/lib/python3.7/site-packages/ipykernel_launcher.py:2: RuntimeWarning: overflow encountered in exp\n",
      "  \n"
     ]
    },
    {
     "name": "stdout",
     "output_type": "stream",
     "text": [
      "epoch # 0\n",
      "epoch # 1\n",
      "epoch # 2\n",
      "epoch # 3\n",
      "epoch # 4\n",
      "epoch # 5\n",
      "epoch # 6\n",
      "epoch # 7\n",
      "epoch # 8\n",
      "epoch # 9\n",
      "epoch # 10\n",
      "epoch # 11\n",
      "epoch # 12\n",
      "epoch # 13\n",
      "epoch # 14\n",
      "epoch # 15\n",
      "epoch # 16\n",
      "epoch # 17\n",
      "epoch # 18\n",
      "epoch # 19\n",
      "epoch # 20\n",
      "epoch # 21\n",
      "epoch # 22\n",
      "epoch # 23\n",
      "epoch # 24\n",
      "epoch # 25\n",
      "epoch # 26\n",
      "epoch # 27\n",
      "epoch # 28\n",
      "epoch # 29\n",
      "epoch # 30\n",
      "epoch # 31\n",
      "epoch # 32\n",
      "epoch # 33\n",
      "epoch # 34\n",
      "epoch # 35\n",
      "epoch # 36\n",
      "epoch # 37\n",
      "epoch # 38\n",
      "epoch # 39\n",
      "epoch # 40\n",
      "epoch # 41\n",
      "epoch # 42\n",
      "epoch # 43\n",
      "epoch # 44\n",
      "epoch # 45\n",
      "epoch # 46\n",
      "epoch # 47\n",
      "epoch # 48\n",
      "epoch # 49\n"
     ]
    }
   ],
   "source": [
    "cost, acc, y_pred = runModel(X_train, y_train, X_test, y_test)"
   ]
  },
  {
   "cell_type": "code",
   "execution_count": 27,
   "metadata": {},
   "outputs": [
    {
     "name": "stdout",
     "output_type": "stream",
     "text": [
      "final prediction accuracy is:  91.4\n"
     ]
    },
    {
     "data": {
      "image/png": "[encoded data removed]",
      "text/plain": [
       "<Figure size 432x288 with 2 Axes>"
      ]
     },
     "metadata": {
      "needs_background": "light"
     },
     "output_type": "display_data"
    },
    {
     "data": {
      "image/png": "[encoded data removed]",
      "text/plain": [
       "<Figure size 432x288 with 25 Axes>"
      ]
     },
     "metadata": {},
     "output_type": "display_data"
    }
   ],
   "source": [
    "x_a = [i for i in range(acc.shape[0])]\n",
    "x_c = [i for i in range(len(cost))]\n",
    "print('final prediction accuracy is: ', acc[49])\n",
    "plt.subplot(221)\n",
    "plt.plot(x_c, cost)\n",
    "plt.subplot(222)\n",
    "plt.plot(x_a, acc)\n",
    "plt.show()\n",
    "\n",
    "miscl_img = X_test[y_test == y_pred][:25]\n",
    "correct_lab = y_test[y_test == y_pred][:25]\n",
    "miscl_lab = y_pred[y_test == y_pred][:25]\n",
    "\n",
    "fig, ax = plt.subplots(nrows=5, ncols=5, sharex=True, sharey=True)\n",
    "ax = ax.flatten()\n",
    "for i in range(25):\n",
    "    img = miscl_img[i].reshape(28,28)\n",
    "    ax[i].imshow(img, cmap='Greys', interpolation='nearest')\n",
    "    ax[i].set_title('%d) t: %d p: %d' % (i + 1, correct_lab[i], miscl_lab[i]))\n",
    "ax[0].set_xticks([])\n",
    "ax[0].set_yticks([])\n",
    "plt.tight_layout()\n",
    "plt.show()"
   ]
  },
  {
   "cell_type": "code",
   "execution_count": null,
   "metadata": {},
   "outputs": [],
   "source": []
  }
 ],
 "metadata": {
  "kernelspec": {
   "display_name": "Python 3",
   "language": "python",
   "name": "python3"
  },
  "language_info": {
   "codemirror_mode": {
    "name": "ipython",
    "version": 3
   },
   "file_extension": ".py",
   "mimetype": "text/x-python",
   "name": "python",
   "nbconvert_exporter": "python",
   "pygments_lexer": "ipython3",
   "version": "3.7.4"
  }
 },
 "nbformat": 4,
 "nbformat_minor": 2
}
